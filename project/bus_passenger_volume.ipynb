{
 "cells": [
  {
   "cell_type": "code",
<<<<<<< HEAD
<<<<<<< HEAD
   "execution_count": 25,
=======
   "execution_count": 9,
>>>>>>> 27a3fc5 (bus passenger volume data cleaning)
=======
   "execution_count": 25,
>>>>>>> 830f2d7 (trying out github)
   "metadata": {},
   "outputs": [],
   "source": [
    "#Importing necessary files\n",
    "import pandas as pd"
   ]
  },
  {
   "cell_type": "code",
<<<<<<< HEAD
<<<<<<< HEAD
   "execution_count": 26,
   "metadata": {},
   "outputs": [
    {
     "data": {
      "text/plain": [
       "' import os\\nos.chdir(\"/Users/larryyyyy/Documents/dse3101\")\\nprint(os.getcwd()) '"
      ]
     },
     "execution_count": 26,
     "metadata": {},
     "output_type": "execute_result"
    }
   ],
   "source": [
    "\"\"\" import os\n",
    "os.chdir(\"/Users/larryyyyy/Documents/dse3101\")\n",
    "print(os.getcwd()) \"\"\"\n"
=======
   "execution_count": 10,
=======
   "execution_count": 26,
>>>>>>> 830f2d7 (trying out github)
   "metadata": {},
   "outputs": [
    {
     "data": {
      "text/plain": [
       "' import os\\nos.chdir(\"/Users/larryyyyy/Documents/dse3101\")\\nprint(os.getcwd()) '"
      ]
     },
     "execution_count": 26,
     "metadata": {},
     "output_type": "execute_result"
    }
   ],
   "source": [
    "\"\"\" import os\n",
    "os.chdir(\"/Users/larryyyyy/Documents/dse3101\")\n",
<<<<<<< HEAD
    "print(os.getcwd())\n"
>>>>>>> 27a3fc5 (bus passenger volume data cleaning)
=======
    "print(os.getcwd()) \"\"\"\n"
>>>>>>> 830f2d7 (trying out github)
   ]
  },
  {
   "cell_type": "code",
<<<<<<< HEAD
<<<<<<< HEAD
   "execution_count": 27,
   "metadata": {},
   "outputs": [],
   "source": [
    "bus_202411 = pd.read_csv(\"dataset/bus stop passenger volum/transport_node_bus_202411.csv\")\n",
    "bus_202412 = pd.read_csv(\"dataset/bus stop passenger volum/transport_node_bus_202412.csv\")\n",
    "bus_202501 = pd.read_csv(\"dataset/bus stop passenger volum/transport_node_bus_202501.csv\")\n",
=======
   "execution_count": 11,
   "metadata": {},
   "outputs": [],
   "source": [
    "bus_202411 = pd.read_csv(\"project/dataset/bus stop passenger volum/transport_node_bus_202411.csv\")\n",
    "bus_202412 = pd.read_csv(\"project/dataset/bus stop passenger volum/transport_node_bus_202412.csv\")\n",
    "bus_202501 = pd.read_csv(\"project/dataset/bus stop passenger volum/transport_node_bus_202501.csv\")\n",
>>>>>>> 27a3fc5 (bus passenger volume data cleaning)
=======
   "execution_count": 27,
   "metadata": {},
   "outputs": [],
   "source": [
    "bus_202411 = pd.read_csv(\"dataset/bus stop passenger volum/transport_node_bus_202411.csv\")\n",
    "bus_202412 = pd.read_csv(\"dataset/bus stop passenger volum/transport_node_bus_202412.csv\")\n",
    "bus_202501 = pd.read_csv(\"dataset/bus stop passenger volum/transport_node_bus_202501.csv\")\n",
>>>>>>> 830f2d7 (trying out github)
    "\n",
    "bus_stop_volume = pd.concat([bus_202501, bus_202412, bus_202411], axis=0, ignore_index=True)"
   ]
  },
  {
   "cell_type": "code",
<<<<<<< HEAD
<<<<<<< HEAD
   "execution_count": 28,
=======
   "execution_count": 12,
>>>>>>> 27a3fc5 (bus passenger volume data cleaning)
=======
   "execution_count": 28,
>>>>>>> 830f2d7 (trying out github)
   "metadata": {},
   "outputs": [
    {
     "name": "stdout",
     "output_type": "stream",
     "text": [
      "YEAR_MONTH               0\n",
      "DAY_TYPE                 0\n",
      "TIME_PER_HOUR           28\n",
      "PT_TYPE                  0\n",
      "PT_CODE                  0\n",
      "TOTAL_TAP_IN_VOLUME      0\n",
      "TOTAL_TAP_OUT_VOLUME     0\n",
      "dtype: int64\n",
      "(602372, 7)\n"
     ]
    }
   ],
   "source": [
    "#Finding nulls\n",
    "print(bus_stop_volume.isnull().sum())\n",
    "print(bus_stop_volume.shape)"
   ]
  },
  {
   "cell_type": "code",
<<<<<<< HEAD
<<<<<<< HEAD
   "execution_count": 29,
=======
   "execution_count": 13,
>>>>>>> 27a3fc5 (bus passenger volume data cleaning)
=======
   "execution_count": 29,
>>>>>>> 830f2d7 (trying out github)
   "metadata": {},
   "outputs": [
    {
     "name": "stdout",
     "output_type": "stream",
     "text": [
      "PT_CODE\n",
      "3239     1\n",
      "10009    1\n",
      "10499    1\n",
      "22009    2\n",
      "28009    1\n",
      "28459    1\n",
      "41009    1\n",
      "43009    1\n",
      "44009    2\n",
      "45009    1\n",
      "46009    1\n",
      "47009    1\n",
      "52009    2\n",
      "53009    2\n",
      "54009    1\n",
      "55509    1\n",
      "58009    1\n",
      "64009    1\n",
      "65009    1\n",
      "66009    1\n",
      "75009    1\n",
      "80009    1\n",
      "99009    2\n",
      "dtype: int64\n"
     ]
    }
   ],
   "source": [
    "#Seems like there isnt much data missing except time\n",
    "null_values = bus_stop_volume[bus_stop_volume.isnull().any(axis=1)]\n",
    "no_of_null = null_values.groupby('PT_CODE').size()\n",
    "print(no_of_null)\n",
    "ptcode = set(null_values['PT_CODE'])"
   ]
  },
  {
   "cell_type": "code",
<<<<<<< HEAD
<<<<<<< HEAD
   "execution_count": 30,
=======
   "execution_count": 14,
>>>>>>> 27a3fc5 (bus passenger volume data cleaning)
=======
   "execution_count": 30,
>>>>>>> 830f2d7 (trying out github)
   "metadata": {},
   "outputs": [
    {
     "name": "stdout",
     "output_type": "stream",
     "text": [
      "PT_CODE\n",
      "3239     0.008333\n",
      "10009    0.008130\n",
      "10499    0.007874\n",
      "22009    0.015152\n",
      "28009    0.007576\n",
      "28459    0.007812\n",
      "41009    0.007812\n",
      "43009    0.007463\n",
      "44009    0.015152\n",
      "45009    0.007634\n",
      "46009    0.007407\n",
      "47009    0.007874\n",
      "52009    0.014815\n",
      "53009    0.015267\n",
      "54009    0.007634\n",
      "55509    0.007634\n",
      "58009    0.007752\n",
      "64009    0.007692\n",
      "65009    0.007519\n",
      "66009    0.007752\n",
      "75009    0.007299\n",
      "80009    0.007692\n",
      "99009    0.015625\n",
      "dtype: float64\n"
     ]
    }
   ],
   "source": [
    "total_data = bus_stop_volume[bus_stop_volume['PT_CODE'].isin(ptcode)].groupby('PT_CODE').size()\n",
    "print(no_of_null/total_data)\n"
   ]
  },
  {
   "cell_type": "code",
<<<<<<< HEAD
<<<<<<< HEAD
   "execution_count": 31,
=======
   "execution_count": 15,
>>>>>>> 27a3fc5 (bus passenger volume data cleaning)
=======
   "execution_count": 31,
>>>>>>> 830f2d7 (trying out github)
   "metadata": {},
   "outputs": [
    {
     "data": {
      "text/html": [
       "<div>\n",
       "<style scoped>\n",
       "    .dataframe tbody tr th:only-of-type {\n",
       "        vertical-align: middle;\n",
       "    }\n",
       "\n",
       "    .dataframe tbody tr th {\n",
       "        vertical-align: top;\n",
       "    }\n",
       "\n",
       "    .dataframe thead th {\n",
       "        text-align: right;\n",
       "    }\n",
       "</style>\n",
       "<table border=\"1\" class=\"dataframe\">\n",
       "  <thead>\n",
       "    <tr style=\"text-align: right;\">\n",
       "      <th></th>\n",
       "      <th>YEAR_MONTH</th>\n",
       "      <th>DAY_TYPE</th>\n",
       "      <th>TIME_PER_HOUR</th>\n",
       "      <th>PT_TYPE</th>\n",
       "      <th>PT_CODE</th>\n",
       "      <th>TOTAL_TAP_IN_VOLUME</th>\n",
       "      <th>TOTAL_TAP_OUT_VOLUME</th>\n",
       "    </tr>\n",
       "  </thead>\n",
       "  <tbody>\n",
       "    <tr>\n",
       "      <th>0</th>\n",
       "      <td>2025-01</td>\n",
       "      <td>WEEKDAY</td>\n",
       "      <td>19.0</td>\n",
       "      <td>BUS</td>\n",
       "      <td>75419</td>\n",
       "      <td>185</td>\n",
       "      <td>530</td>\n",
       "    </tr>\n",
       "    <tr>\n",
       "      <th>1</th>\n",
       "      <td>2025-01</td>\n",
       "      <td>WEEKDAY</td>\n",
       "      <td>17.0</td>\n",
       "      <td>BUS</td>\n",
       "      <td>46711</td>\n",
       "      <td>1066</td>\n",
       "      <td>133</td>\n",
       "    </tr>\n",
       "    <tr>\n",
       "      <th>2</th>\n",
       "      <td>2025-01</td>\n",
       "      <td>WEEKENDS/HOLIDAY</td>\n",
       "      <td>20.0</td>\n",
       "      <td>BUS</td>\n",
       "      <td>43459</td>\n",
       "      <td>93</td>\n",
       "      <td>81</td>\n",
       "    </tr>\n",
       "    <tr>\n",
       "      <th>3</th>\n",
       "      <td>2025-01</td>\n",
       "      <td>WEEKENDS/HOLIDAY</td>\n",
       "      <td>22.0</td>\n",
       "      <td>BUS</td>\n",
       "      <td>17069</td>\n",
       "      <td>350</td>\n",
       "      <td>147</td>\n",
       "    </tr>\n",
       "    <tr>\n",
       "      <th>4</th>\n",
       "      <td>2025-01</td>\n",
       "      <td>WEEKENDS/HOLIDAY</td>\n",
       "      <td>14.0</td>\n",
       "      <td>BUS</td>\n",
       "      <td>47579</td>\n",
       "      <td>343</td>\n",
       "      <td>203</td>\n",
       "    </tr>\n",
       "    <tr>\n",
       "      <th>...</th>\n",
       "      <td>...</td>\n",
       "      <td>...</td>\n",
       "      <td>...</td>\n",
       "      <td>...</td>\n",
       "      <td>...</td>\n",
       "      <td>...</td>\n",
       "      <td>...</td>\n",
       "    </tr>\n",
       "    <tr>\n",
       "      <th>602367</th>\n",
       "      <td>2024-11</td>\n",
       "      <td>WEEKDAY</td>\n",
       "      <td>7.0</td>\n",
       "      <td>BUS</td>\n",
       "      <td>46161</td>\n",
       "      <td>148</td>\n",
       "      <td>493</td>\n",
       "    </tr>\n",
       "    <tr>\n",
       "      <th>602368</th>\n",
       "      <td>2024-11</td>\n",
       "      <td>WEEKDAY</td>\n",
       "      <td>9.0</td>\n",
       "      <td>BUS</td>\n",
       "      <td>76269</td>\n",
       "      <td>1269</td>\n",
       "      <td>361</td>\n",
       "    </tr>\n",
       "    <tr>\n",
       "      <th>602369</th>\n",
       "      <td>2024-11</td>\n",
       "      <td>WEEKDAY</td>\n",
       "      <td>16.0</td>\n",
       "      <td>BUS</td>\n",
       "      <td>66019</td>\n",
       "      <td>646</td>\n",
       "      <td>42</td>\n",
       "    </tr>\n",
       "    <tr>\n",
       "      <th>602370</th>\n",
       "      <td>2024-11</td>\n",
       "      <td>WEEKENDS/HOLIDAY</td>\n",
       "      <td>17.0</td>\n",
       "      <td>BUS</td>\n",
       "      <td>24621</td>\n",
       "      <td>33</td>\n",
       "      <td>24</td>\n",
       "    </tr>\n",
       "    <tr>\n",
       "      <th>602371</th>\n",
       "      <td>2024-11</td>\n",
       "      <td>WEEKDAY</td>\n",
       "      <td>6.0</td>\n",
       "      <td>BUS</td>\n",
       "      <td>92069</td>\n",
       "      <td>839</td>\n",
       "      <td>996</td>\n",
       "    </tr>\n",
       "  </tbody>\n",
       "</table>\n",
       "<p>602344 rows × 7 columns</p>\n",
       "</div>"
      ],
      "text/plain": [
       "       YEAR_MONTH          DAY_TYPE  TIME_PER_HOUR PT_TYPE  PT_CODE  \\\n",
       "0         2025-01           WEEKDAY           19.0     BUS    75419   \n",
       "1         2025-01           WEEKDAY           17.0     BUS    46711   \n",
       "2         2025-01  WEEKENDS/HOLIDAY           20.0     BUS    43459   \n",
       "3         2025-01  WEEKENDS/HOLIDAY           22.0     BUS    17069   \n",
       "4         2025-01  WEEKENDS/HOLIDAY           14.0     BUS    47579   \n",
       "...           ...               ...            ...     ...      ...   \n",
       "602367    2024-11           WEEKDAY            7.0     BUS    46161   \n",
       "602368    2024-11           WEEKDAY            9.0     BUS    76269   \n",
       "602369    2024-11           WEEKDAY           16.0     BUS    66019   \n",
       "602370    2024-11  WEEKENDS/HOLIDAY           17.0     BUS    24621   \n",
       "602371    2024-11           WEEKDAY            6.0     BUS    92069   \n",
       "\n",
       "        TOTAL_TAP_IN_VOLUME  TOTAL_TAP_OUT_VOLUME  \n",
       "0                       185                   530  \n",
       "1                      1066                   133  \n",
       "2                        93                    81  \n",
       "3                       350                   147  \n",
       "4                       343                   203  \n",
       "...                     ...                   ...  \n",
       "602367                  148                   493  \n",
       "602368                 1269                   361  \n",
       "602369                  646                    42  \n",
       "602370                   33                    24  \n",
       "602371                  839                   996  \n",
       "\n",
       "[602344 rows x 7 columns]"
      ]
     },
<<<<<<< HEAD
<<<<<<< HEAD
     "execution_count": 31,
=======
     "execution_count": 15,
>>>>>>> 27a3fc5 (bus passenger volume data cleaning)
=======
     "execution_count": 31,
>>>>>>> 830f2d7 (trying out github)
     "metadata": {},
     "output_type": "execute_result"
    }
   ],
   "source": [
    "\"\"\"Since we can see that the values that are missing only accounts for less than 2% of the data, \n",
    "it represents only a small amount and we can safely remove them.\"\"\"\n",
    "\n",
    "cleaned_bus_data = bus_stop_volume.dropna()\n",
    "cleaned_bus_data\n"
   ]
  },
  {
   "cell_type": "code",
<<<<<<< HEAD
<<<<<<< HEAD
   "execution_count": 32,
=======
   "execution_count": 16,
>>>>>>> 27a3fc5 (bus passenger volume data cleaning)
=======
   "execution_count": 32,
>>>>>>> 830f2d7 (trying out github)
   "metadata": {},
   "outputs": [
    {
     "name": "stdout",
     "output_type": "stream",
     "text": [
      "None\n"
     ]
    }
   ],
   "source": [
<<<<<<< HEAD
<<<<<<< HEAD
    "\"\"\" import requests\n",
    "import os\n",
    "api_key = os.getenv(\"API_KEY\")\n",
    "headers = {\"AccountKey\": api_key}\n",
    "print(api_key) \"\"\""
=======
    "import requests\n",
    "import os\n",
    "api_key = os.getenv(\"API_KEY\")\n",
    "headers = {\"AccountKey\": api_key}\n",
    "print(api_key)"
>>>>>>> 27a3fc5 (bus passenger volume data cleaning)
=======
    "\"\"\" import requests\n",
    "import os\n",
    "api_key = os.getenv(\"API_KEY\")\n",
    "headers = {\"AccountKey\": api_key}\n",
    "print(api_key) \"\"\""
>>>>>>> 830f2d7 (trying out github)
   ]
  }
 ],
 "metadata": {
  "kernelspec": {
<<<<<<< HEAD
<<<<<<< HEAD
   "display_name": "Python 3",
=======
   "display_name": "base",
>>>>>>> 27a3fc5 (bus passenger volume data cleaning)
=======
   "display_name": "Python 3",
>>>>>>> 830f2d7 (trying out github)
   "language": "python",
   "name": "python3"
  },
  "language_info": {
   "codemirror_mode": {
    "name": "ipython",
    "version": 3
   },
   "file_extension": ".py",
   "mimetype": "text/x-python",
   "name": "python",
   "nbconvert_exporter": "python",
   "pygments_lexer": "ipython3",
<<<<<<< HEAD
<<<<<<< HEAD
   "version": "3.10.6"
=======
   "version": "3.12.7"
>>>>>>> 27a3fc5 (bus passenger volume data cleaning)
=======
   "version": "3.10.6"
>>>>>>> 830f2d7 (trying out github)
  }
 },
 "nbformat": 4,
 "nbformat_minor": 2
}
